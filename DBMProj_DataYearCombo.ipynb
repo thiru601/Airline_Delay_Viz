{
 "cells": [
  {
   "cell_type": "code",
   "execution_count": 13,
   "metadata": {},
   "outputs": [
    {
     "name": "stdout",
     "output_type": "stream",
     "text": [
      "1\n",
      "2\n",
      "3\n",
      "4\n",
      "5\n",
      "6\n",
      "7\n",
      "8\n",
      "['2019-01-19', '2019-02-01', '2019-03-09', '2019-04-30', '2019-05-27', '2019-06-27', '2019-07-12', '2019-08-01']\n"
     ]
    }
   ],
   "source": [
    "import pandas as pd         #Uses Pandas for dataframe import and concat \n",
    "numbers= list(range(30,38)) #picks index for dates in a certain year, example is for 2019\n",
    "dates=[]                    #Empty list to append dates\n",
    "Full_data=[]                #Empty list to append each csv file\n",
    "count=0                     #Starting the counter for a progress bar \n",
    "for i in numbers:\n",
    "    data = pd.read_csv(\"~/Desktop/DBM_Project/Data/90229638_T_ONTIME_REPORTING-{0}.csv\".format(i))\n",
    "                                      #Reads each csv in the given range of numbers \n",
    "    Full_data.append(data)            #Appends the current csv to the list of previous csvs\n",
    "    dates.append(data['FL_DATE'][0])  #Appends the date of the first flight of the csv \n",
    "    count+=1                          #Made a counter for a progress bar \n",
    "    print(count)                      #Printing count so we can see the progress of the loop\n",
    "#For loop will take all csvs from the local computer and \n",
    "Full_data2019=pd.concat(Full_data)    #Combines all the pandas datasets from the Full Data list into one csv \n",
    "Full_data2019.to_csv(\"2019data.csv\",index=False)   #Downloads the Full Data for a given year to your local computer\n",
    "print(dates)                  #Prints the dates of the data just to make sure we have all the data for a given year "
   ]
  },
  {
   "cell_type": "code",
   "execution_count": null,
   "metadata": {},
   "outputs": [],
   "source": []
  }
 ],
 "metadata": {
  "kernelspec": {
   "display_name": "Python 3",
   "language": "python",
   "name": "python3"
  },
  "language_info": {
   "codemirror_mode": {
    "name": "ipython",
    "version": 3
   },
   "file_extension": ".py",
   "mimetype": "text/x-python",
   "name": "python",
   "nbconvert_exporter": "python",
   "pygments_lexer": "ipython3",
   "version": "3.7.4"
  }
 },
 "nbformat": 4,
 "nbformat_minor": 2
}
